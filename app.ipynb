{
 "cells": [
  {
   "cell_type": "markdown",
   "metadata": {},
   "source": [
    "Chat My Pdf: Rag with Langchain, Ollama and FAISS Vector Db"
   ]
  },
  {
   "cell_type": "code",
   "execution_count": 1,
   "metadata": {},
   "outputs": [],
   "source": [
    "# install required library\n",
    "# pip install -U langchain-community faiss-cpu langchain-huggingface pymupdf tiktoken langchain-ollama python-dotenv"
   ]
  },
  {
   "cell_type": "code",
   "execution_count": 2,
   "metadata": {},
   "outputs": [
    {
     "data": {
      "text/plain": [
       "True"
      ]
     },
     "execution_count": 2,
     "metadata": {},
     "output_type": "execute_result"
    }
   ],
   "source": [
    "import os\n",
    "import warnings\n",
    "from dotenv import load_dotenv\n",
    "\n",
    "os.environ['KMP_DUPLICATE_LIB_OK'] = 'True' # to avoid problem of two db present\n",
    "warnings.filterwarnings('ignore')\n",
    "load_dotenv()"
   ]
  },
  {
   "cell_type": "code",
   "execution_count": 3,
   "metadata": {},
   "outputs": [],
   "source": [
    "from langchain_community.document_loaders import PyMuPDFLoader\n",
    "\n",
    "loader = PyMuPDFLoader(\"1. dietary supplements - for whom.pdf\")\n",
    "docs = loader.load()"
   ]
  },
  {
   "cell_type": "code",
   "execution_count": 4,
   "metadata": {},
   "outputs": [],
   "source": [
    "doc = docs[0]"
   ]
  },
  {
   "cell_type": "code",
   "execution_count": 5,
   "metadata": {},
   "outputs": [
    {
     "data": {
      "text/plain": [
       "{'source': '1. dietary supplements - for whom.pdf',\n",
       " 'file_path': '1. dietary supplements - for whom.pdf',\n",
       " 'page': 0,\n",
       " 'total_pages': 17,\n",
       " 'format': 'PDF 1.7',\n",
       " 'title': '',\n",
       " 'author': '',\n",
       " 'subject': '',\n",
       " 'keywords': '',\n",
       " 'creator': '',\n",
       " 'producer': 'iLovePDF',\n",
       " 'creationDate': '',\n",
       " 'modDate': 'D:20241021113754Z',\n",
       " 'trapped': ''}"
      ]
     },
     "execution_count": 5,
     "metadata": {},
     "output_type": "execute_result"
    }
   ],
   "source": [
    "doc.metadata"
   ]
  },
  {
   "cell_type": "code",
   "execution_count": 6,
   "metadata": {},
   "outputs": [
    {
     "name": "stdout",
     "output_type": "stream",
     "text": [
      "International  Journal  of\n",
      "Environmental Research\n",
      "and Public Health\n",
      "Review\n",
      "Dietary Supplements—For Whom? The Current State of\n",
      "Knowledge about the Health Effects of Selected\n",
      "Supplement Use\n",
      "Regina Ewa Wierzejska\n",
      "\u0001\u0002\u0003\u0001\u0004\u0005\u0006\n",
      "\u0001\u0002\u0003\u0004\u0005\u0006\u0007\n",
      "Citation: Wierzejska, R.E. Dietary\n",
      "Supplements—For Whom? The\n",
      "Current State of Knowledge about the\n",
      "Health Effects of Selected Supplement\n",
      "Use. Int. J. Environ. Res. Public Health\n",
      "2021, 18, 8897. https://doi.org/\n",
      "10.3390/ijerph18178897\n",
      "Academic Editor: Paul B. Tchounwou\n",
      "Received: 15 July 2021\n",
      "Accepted: 21 August 2021\n",
      "Published: 24 August 2021\n",
      "Publisher’s Note: MDPI stays neutral\n",
      "with regard to jurisdictional claims in\n",
      "published maps and institutional afﬁl-\n",
      "iations.\n",
      "Copyright: © 2021 by the author.\n",
      "Licensee MDPI, Basel, Switzerland.\n",
      "This article is an open access article\n",
      "distributed\n",
      "under\n",
      "the\n",
      "terms\n",
      "and\n",
      "conditions of the Creative Commons\n",
      "Attribution (CC BY) license (https://\n",
      "creativecommons.org/licenses/by/\n",
      "4.0/).\n",
      "Department of Nutrition and Nutritional Value of Food, National Institute of Public Health NIH—National\n",
      "Research Institute, Chocimska St. 24, 00-791 Warsaw, Poland; rwierzejska@pzh.gov.pl\n",
      "Abstract: Dietary supplements are products containing nutrients sold in various medicinal forms,\n",
      "and their widespread use may stem from the conviction that a preparation that looks like a drug\n",
      "must have therapeutic properties. The aim of this scoping review is to present what is known\n",
      "about the effects of using selected dietary supplements in the context of chronic diseases, as well\n",
      "as the risks associated with their use. The literature shows that the taking of vitamin and mineral\n",
      "supplements by healthy people neither lowers their risk of cardiovascular diseases nor prevents\n",
      "the development of malignancies. Many scientiﬁc societies recognize that omega-3 fatty acids\n",
      "lower blood triglycerides, but whether taking them prevents heart disease is less clear-cut. Taking\n",
      "weight loss supplements is not an effective method of ﬁghting obesity. Often, some supplements\n",
      "are increasingly sold illegally, which is then also associated with the higher risk that they may\n",
      "be adulterated with banned substances, thus making them even more dangerous and potentially\n",
      "life-threatening. Supplements are necessary in cases of nutrient deﬁciency; however, even though\n",
      "prescription is not required, their use should be recommended and monitored by a physician.\n",
      "Keywords: dietary supplements; legal regulations; health; safety\n",
      "1. Introduction\n",
      "In accordance with the European Union law, as well as the United States law, dietary\n",
      "supplements mean products that are concentrated sources of vitamins, minerals, or other\n",
      "substances with a nutritional or physiological effect (e.g., amino acids, essential fatty acids,\n",
      "probiotics, plants, and herbal extracts) intended to supplement the regular diet. Dietary\n",
      "supplements are produced in the form of capsules, tablets, pills, and other similar forms,\n",
      "designed to be taken in measured small unit quantities [1,2]. Dietary supplements, despite\n",
      "their route of administration and drug-like appearance, have been classiﬁed as foodstuffs\n",
      "and not medicines. Thus, in formal terms, supplement users are consumers rather than\n",
      "patients, but the question remains whether it is sick or healthy individuals who should\n",
      "be the primary users. The market for dietary supplements continues to expand at a rapid\n",
      "pace, and manufacturers develop products for health problems affecting almost all organs\n",
      "of the body, as well as for non-existing conditions, e.g., supplements for bladder elasticity.\n",
      "Additionally, a growing awareness among the public about the role of nutrition in the\n",
      "maintenance of health, together with widespread beliefs about today’s food being poor in\n",
      "vitamins (e.g., due to impoverished soil), are among the reasons for dietary supplement\n",
      "use becoming common practice or even the norm.\n",
      "Skyrocketing sales of supplements in times of the widespread accessibility and over-\n",
      "consumption of a wide range of foods may be described as the “supplement use phe-\n",
      "nomenon”. In the US, over 50% of adults declare supplement use, and in some studies\n",
      "almost 40% had taken dietary supplements during the previous 30 days when they were\n",
      "questioned [3,4]. In Poland, supplement use has been reported by 30–78% of adolescents\n",
      "and adults [5–7] and by approximately 40% of children [8]. Only one-quarter of supplement\n",
      "Int. J. Environ. Res. Public Health 2021, 18, 8897. https://doi.org/10.3390/ijerph18178897\n",
      "https://www.mdpi.com/journal/ijerph\n",
      "\n"
     ]
    }
   ],
   "source": [
    "print(doc.page_content)"
   ]
  },
  {
   "cell_type": "code",
   "execution_count": 7,
   "metadata": {},
   "outputs": [
    {
     "data": {
      "text/plain": [
       "17"
      ]
     },
     "execution_count": 7,
     "metadata": {},
     "output_type": "execute_result"
    }
   ],
   "source": [
    "len(docs)"
   ]
  },
  {
   "cell_type": "code",
   "execution_count": 8,
   "metadata": {},
   "outputs": [],
   "source": [
    "from langchain_text_splitters import RecursiveCharacterTextSplitter\n",
    "\n",
    "text_splitter = RecursiveCharacterTextSplitter(chunk_size=1000, chunk_overlap=100)\n",
    "\n",
    "chunks = text_splitter.split_documents(docs)"
   ]
  },
  {
   "cell_type": "code",
   "execution_count": 9,
   "metadata": {},
   "outputs": [
    {
     "name": "stdout",
     "output_type": "stream",
     "text": [
      "International  Journal  of\n",
      "Environmental Research\n",
      "and Public Health\n",
      "Review\n",
      "Dietary Supplements—For Whom? The Current State of\n",
      "Knowledge about the Health Effects of Selected\n",
      "Supplement Use\n",
      "Regina Ewa Wierzejska\n",
      "\u0001\u0002\u0003\u0001\u0004\u0005\u0006\n",
      "\u0001\u0002\u0003\u0004\u0005\u0006\u0007\n",
      "Citation: Wierzejska, R.E. Dietary\n",
      "Supplements—For Whom? The\n",
      "Current State of Knowledge about the\n",
      "Health Effects of Selected Supplement\n",
      "Use. Int. J. Environ. Res. Public Health\n",
      "2021, 18, 8897. https://doi.org/\n",
      "10.3390/ijerph18178897\n",
      "Academic Editor: Paul B. Tchounwou\n",
      "Received: 15 July 2021\n",
      "Accepted: 21 August 2021\n",
      "Published: 24 August 2021\n",
      "Publisher’s Note: MDPI stays neutral\n",
      "with regard to jurisdictional claims in\n",
      "published maps and institutional afﬁl-\n",
      "iations.\n",
      "Copyright: © 2021 by the author.\n",
      "Licensee MDPI, Basel, Switzerland.\n",
      "This article is an open access article\n",
      "distributed\n",
      "under\n",
      "the\n",
      "terms\n",
      "and\n",
      "conditions of the Creative Commons\n",
      "Attribution (CC BY) license (https://\n",
      "creativecommons.org/licenses/by/\n",
      "4.0/).\n"
     ]
    }
   ],
   "source": [
    "print(chunks[0].page_content)"
   ]
  },
  {
   "cell_type": "code",
   "execution_count": 10,
   "metadata": {},
   "outputs": [
    {
     "name": "stdout",
     "output_type": "stream",
     "text": [
      "<class 'list'>\n"
     ]
    }
   ],
   "source": [
    "print(type(chunks))"
   ]
  },
  {
   "cell_type": "code",
   "execution_count": 11,
   "metadata": {},
   "outputs": [
    {
     "data": {
      "text/plain": [
       "(4491, 946)"
      ]
     },
     "execution_count": 11,
     "metadata": {},
     "output_type": "execute_result"
    }
   ],
   "source": [
    "len(docs[0].page_content),len(chunks[0].page_content)"
   ]
  },
  {
   "cell_type": "code",
   "execution_count": 12,
   "metadata": {},
   "outputs": [
    {
     "data": {
      "text/plain": [
       "(1017, 271)"
      ]
     },
     "execution_count": 12,
     "metadata": {},
     "output_type": "execute_result"
    }
   ],
   "source": [
    "# to know the token\n",
    "import tiktoken \n",
    "\n",
    "encoding = tiktoken.encoding_for_model(\"gpt-4o-mini\")\n",
    "len(encoding.encode(docs[0].page_content)),len(encoding.encode(chunks[0].page_content))"
   ]
  },
  {
   "cell_type": "code",
   "execution_count": 13,
   "metadata": {},
   "outputs": [],
   "source": [
    "from langchain_ollama import OllamaEmbeddings\n",
    "\n",
    "import faiss\n",
    "from langchain_community.vectorstores import FAISS\n",
    "from langchain_community.docstore.in_memory import InMemoryDocstore\n"
   ]
  },
  {
   "cell_type": "code",
   "execution_count": 14,
   "metadata": {},
   "outputs": [],
   "source": [
    "embeddings = OllamaEmbeddings(model='nomic-embed-text',base_url=\"http://localhost:11434\")\n",
    "\n",
    "single_vector = embeddings.embed_query(\"this is a text\")\n"
   ]
  },
  {
   "cell_type": "code",
   "execution_count": 15,
   "metadata": {},
   "outputs": [
    {
     "data": {
      "text/plain": [
       "768"
      ]
     },
     "execution_count": 15,
     "metadata": {},
     "output_type": "execute_result"
    }
   ],
   "source": [
    "len(single_vector)"
   ]
  },
  {
   "cell_type": "code",
   "execution_count": 16,
   "metadata": {},
   "outputs": [],
   "source": [
    "index = faiss.IndexFlatL2(len(single_vector))"
   ]
  },
  {
   "cell_type": "code",
   "execution_count": 17,
   "metadata": {},
   "outputs": [
    {
     "data": {
      "text/plain": [
       "<faiss.swigfaiss_avx2.IndexFlatL2; proxy of <Swig Object of type 'faiss::IndexFlatL2 *' at 0x000001F52D32F870> >"
      ]
     },
     "execution_count": 17,
     "metadata": {},
     "output_type": "execute_result"
    }
   ],
   "source": [
    "index"
   ]
  },
  {
   "cell_type": "code",
   "execution_count": 18,
   "metadata": {},
   "outputs": [],
   "source": [
    "vector_store = FAISS(\n",
    "    embedding_function = embeddings,\n",
    "    index = index,\n",
    "    docstore = InMemoryDocstore(),\n",
    "    index_to_docstore_id = {}\n",
    ")"
   ]
  },
  {
   "cell_type": "code",
   "execution_count": 19,
   "metadata": {},
   "outputs": [
    {
     "data": {
      "text/plain": [
       "<langchain_community.vectorstores.faiss.FAISS at 0x1f52f77ff10>"
      ]
     },
     "execution_count": 19,
     "metadata": {},
     "output_type": "execute_result"
    }
   ],
   "source": [
    "vector_store"
   ]
  },
  {
   "cell_type": "code",
   "execution_count": 20,
   "metadata": {},
   "outputs": [
    {
     "data": {
      "text/plain": [
       "Document(metadata={'source': '1. dietary supplements - for whom.pdf', 'file_path': '1. dietary supplements - for whom.pdf', 'page': 0, 'total_pages': 17, 'format': 'PDF 1.7', 'title': '', 'author': '', 'subject': '', 'keywords': '', 'creator': '', 'producer': 'iLovePDF', 'creationDate': '', 'modDate': 'D:20241021113754Z', 'trapped': ''}, page_content='International  Journal  of\\nEnvironmental Research\\nand Public Health\\nReview\\nDietary Supplements—For Whom? The Current State of\\nKnowledge about the Health Effects of Selected\\nSupplement Use\\nRegina Ewa Wierzejska\\n\\x01\\x02\\x03\\x01\\x04\\x05\\x06\\x07\\x08\\n\\x01\\x02\\x03\\x04\\x05\\x06\\x07\\nCitation: Wierzejska, R.E. Dietary\\nSupplements—For Whom? The\\nCurrent State of Knowledge about the\\nHealth Effects of Selected Supplement\\nUse. Int. J. Environ. Res. Public Health\\n2021, 18, 8897. https://doi.org/\\n10.3390/ijerph18178897\\nAcademic Editor: Paul B. Tchounwou\\nReceived: 15 July 2021\\nAccepted: 21 August 2021\\nPublished: 24 August 2021\\nPublisher’s Note: MDPI stays neutral\\nwith regard to jurisdictional claims in\\npublished maps and institutional afﬁl-\\niations.\\nCopyright: © 2021 by the author.\\nLicensee MDPI, Basel, Switzerland.\\nThis article is an open access article\\ndistributed\\nunder\\nthe\\nterms\\nand\\nconditions of the Creative Commons\\nAttribution (CC BY) license (https://\\ncreativecommons.org/licenses/by/\\n4.0/).')"
      ]
     },
     "execution_count": 20,
     "metadata": {},
     "output_type": "execute_result"
    }
   ],
   "source": [
    "chunks[0]"
   ]
  },
  {
   "cell_type": "code",
   "execution_count": 21,
   "metadata": {},
   "outputs": [
    {
     "data": {
      "text/plain": [
       "list"
      ]
     },
     "execution_count": 21,
     "metadata": {},
     "output_type": "execute_result"
    }
   ],
   "source": [
    "type(chunks)"
   ]
  },
  {
   "cell_type": "code",
   "execution_count": 22,
   "metadata": {},
   "outputs": [],
   "source": [
    "ids = vector_store.add_documents(documents = chunks)"
   ]
  },
  {
   "cell_type": "code",
   "execution_count": 23,
   "metadata": {},
   "outputs": [
    {
     "data": {
      "text/plain": [
       "['6579d62d-4cbb-4078-97cf-8adef42c5aa2',\n",
       " '1456b323-43dd-43e9-bdf4-b49bd9c1a72c',\n",
       " 'e1a5c2d3-2fcf-4b60-9bac-54f659dfb17c',\n",
       " '4677d32e-e823-4832-b032-6553f5376dbb',\n",
       " '03d8e4d6-dca4-41dc-a5c4-8b4198a03ec6',\n",
       " '0a63ab4c-aede-4861-818d-c94c6cd09465',\n",
       " 'f4a569ce-3a95-4726-a0d6-8c08ade69e0c',\n",
       " '1b777148-7ab6-465d-8f1b-b76c5d3857e2',\n",
       " 'f5288db1-9987-4371-be21-b51af0e13279',\n",
       " '2533ae10-43dd-4278-b405-637cb5332f0a',\n",
       " 'c5829073-507e-4c39-8b58-2a043ddd5e71',\n",
       " 'bb84ab5f-7eef-4c05-b16a-74336f4473a8',\n",
       " '8be1dcc5-23ee-4aa7-a487-60c2265d47bc',\n",
       " '992bd3f2-23b1-453b-a0b6-18ebe95d4612',\n",
       " '2684a285-be9a-4330-ac1f-37a4c422a9ab',\n",
       " 'c80c9140-b422-42ac-b9df-5dd0ad0df421',\n",
       " '8f716614-03be-4c26-b6e2-5d8f270ba182',\n",
       " 'a74d17ac-fdc9-41e8-96fb-57dd168d7b56',\n",
       " 'b0d290d3-b555-49d5-8439-4882152a14aa',\n",
       " '9185bc71-695e-460c-8b01-35d33226bebf',\n",
       " '56344815-e069-4d50-9a10-4d418577bf68',\n",
       " 'a7ebfe1a-8796-40e9-b3b8-ca866d03dc29',\n",
       " 'd15215c6-4b12-43bd-8733-5806a52f8c12',\n",
       " '466c17a2-c2a7-4032-bb85-3afc304fce19',\n",
       " '3b06f8f8-a99a-4033-acd6-4d7cae9f1df1',\n",
       " '0b4ad9db-822e-401d-9a22-35ddbd27b44b',\n",
       " 'cc797c37-e4e3-4201-877d-a226e9fd14ba',\n",
       " '7a96d442-2827-46f5-995c-f196ab956195',\n",
       " 'b662307c-9564-43f5-8e02-27e61ed419bc',\n",
       " '0ac01181-23bd-4d5c-a356-53e8605c40eb',\n",
       " '4dca00ab-3f0c-47d8-9769-0074557b113c',\n",
       " 'cd049575-61e7-406c-a11e-fd41a40805e8',\n",
       " '2cd08035-25ce-4169-96d2-207ddd9d3f8a',\n",
       " '23d62ad6-5985-405a-9d82-884c44cd0e23',\n",
       " 'ad139fb5-1f25-4190-8e09-2b1685fc5563',\n",
       " '6c4f1531-4057-410e-80b2-e0569b25f523',\n",
       " 'b724dd0b-fb64-4d23-8daf-3775557f8d30',\n",
       " '72ef089a-96fc-459a-846c-332e35321594',\n",
       " 'cc9f1e1f-cbe5-4006-a1fd-8744990c9717',\n",
       " '23a24a2f-7acf-46eb-ba2d-999151c87124',\n",
       " 'bd0c8219-53e8-4e51-b625-db7f1c9bebdc',\n",
       " 'd83cf87f-a2d3-47c1-a23e-ede0b9d88e6a',\n",
       " 'fa6322d8-8ac7-412b-94fb-37351e0debab',\n",
       " 'e56c1013-de5e-4580-9ddf-90a8e0ec0771',\n",
       " '1781a56e-6dce-4ae0-b25a-c9268f834c6a',\n",
       " 'dff8b35c-2b23-4621-9ee7-b49c852a4c8a',\n",
       " '69f2b248-2502-4ac9-aa07-f6414d48d87f',\n",
       " '81384fca-46f6-46a7-a56a-8a5467e9b544',\n",
       " '47d6f9e3-8b16-4f28-b963-d95d3a4dd032',\n",
       " '87db6735-e94e-4424-b62c-d2bfb24470bb',\n",
       " '746bac85-894f-414e-9da4-d140715eee6e',\n",
       " '50548493-bfc9-48fa-bcd0-51361682ddc4',\n",
       " 'ece1d563-5868-4ee6-af1e-4e020d891182',\n",
       " '184ca5e6-6d8e-486b-ae59-c9500baeac8e',\n",
       " 'ec30864a-3619-42f5-be28-2f47911db5b2',\n",
       " '295d9179-42ec-48a5-8b32-3dade948e0f1',\n",
       " '2dd7154b-a931-4ef7-ac81-092fc0f59045',\n",
       " '5bcbfdd3-c4d3-4b6e-a53f-875070ca0b0c',\n",
       " '1d478534-3589-4991-8ff7-187797686417',\n",
       " '6b92e614-208a-4dbc-8835-934146d867c1',\n",
       " '574fc327-ea28-4d3e-bd74-ec520f572234',\n",
       " '5c4387a2-78e2-453b-ab93-25fcb3309463',\n",
       " '1a4d3871-2247-4b24-8008-c60ae3286de4',\n",
       " 'd5402c0b-cc1e-45c3-87ae-adedcd26fa95',\n",
       " '66e1395f-9011-4304-bcdb-a69868da724c',\n",
       " 'e1ba572e-591f-4e4f-b704-a2afb9e61e2b',\n",
       " '2e30a6d7-dbdd-401f-a155-d4617adeb20b',\n",
       " 'e221eeb5-89e6-4571-ace1-256e4a1722ee',\n",
       " '3bf41b05-64c1-4fad-bb70-67f18971126a',\n",
       " '941926b9-d1a3-4ad7-b038-144cbdabe0ee',\n",
       " '29b0e413-6347-452b-a122-2e09aca494d9',\n",
       " 'bdd54af1-e436-4d17-ae61-01b3ef67f0c9',\n",
       " 'fa947760-d21f-44e4-830a-a151e30105fd',\n",
       " '176f59a7-381e-47fa-8dd3-47d50622341f',\n",
       " 'a605b985-16e4-4ccd-b0e4-831c9bf5b157',\n",
       " 'c7efa04b-0fd6-4026-94a1-ab2e398d7b2a',\n",
       " 'cea97970-8808-41d5-bd81-7c7a01f91c73',\n",
       " 'df352cf0-3553-4194-ad15-4fea2aaebe00',\n",
       " 'cc5bf5ac-31f6-4060-b398-e17404127afa',\n",
       " 'a4da4364-8169-4ca5-bab4-88d7c740d95d',\n",
       " 'baf5e207-cb8d-4399-a8bd-8b80f41e07dc',\n",
       " '7f93f0c3-4395-4d56-a003-39c662717227',\n",
       " 'ff6a648b-0934-49b1-8210-13f6a94fe1e5',\n",
       " 'e5edc7e9-b0dd-43f0-a33e-9eff371c250f']"
      ]
     },
     "execution_count": 23,
     "metadata": {},
     "output_type": "execute_result"
    }
   ],
   "source": [
    "ids"
   ]
  },
  {
   "cell_type": "markdown",
   "metadata": {},
   "source": [
    "### Retrieval"
   ]
  },
  {
   "cell_type": "code",
   "execution_count": 26,
   "metadata": {},
   "outputs": [
    {
     "name": "stdout",
     "output_type": "stream",
     "text": [
      "supplements mean products that are concentrated sources of vitamins, minerals, or other\n",
      "substances with a nutritional or physiological effect (e.g., amino acids, essential fatty acids,\n",
      "probiotics, plants, and herbal extracts) intended to supplement the regular diet. Dietary\n",
      "supplements are produced in the form of capsules, tablets, pills, and other similar forms,\n",
      "designed to be taken in measured small unit quantities [1,2]. Dietary supplements, despite\n",
      "their route of administration and drug-like appearance, have been classiﬁed as foodstuffs\n",
      "and not medicines. Thus, in formal terms, supplement users are consumers rather than\n",
      "patients, but the question remains whether it is sick or healthy individuals who should\n",
      "be the primary users. The market for dietary supplements continues to expand at a rapid\n",
      "pace, and manufacturers develop products for health problems affecting almost all organs\n",
      "of the body, as well as for non-existing conditions, e.g., supplements for bladder elasticity.\n",
      "\n",
      "\n",
      "\n",
      "Attribution (CC BY) license (https://\n",
      "creativecommons.org/licenses/by/\n",
      "4.0/).\n",
      "Department of Nutrition and Nutritional Value of Food, National Institute of Public Health NIH—National\n",
      "Research Institute, Chocimska St. 24, 00-791 Warsaw, Poland; rwierzejska@pzh.gov.pl\n",
      "Abstract: Dietary supplements are products containing nutrients sold in various medicinal forms,\n",
      "and their widespread use may stem from the conviction that a preparation that looks like a drug\n",
      "must have therapeutic properties. The aim of this scoping review is to present what is known\n",
      "about the effects of using selected dietary supplements in the context of chronic diseases, as well\n",
      "as the risks associated with their use. The literature shows that the taking of vitamin and mineral\n",
      "supplements by healthy people neither lowers their risk of cardiovascular diseases nor prevents\n",
      "the development of malignancies. Many scientiﬁc societies recognize that omega-3 fatty acids\n",
      "\n",
      "\n",
      "\n",
      "the development of malignancies. Many scientiﬁc societies recognize that omega-3 fatty acids\n",
      "lower blood triglycerides, but whether taking them prevents heart disease is less clear-cut. Taking\n",
      "weight loss supplements is not an effective method of ﬁghting obesity. Often, some supplements\n",
      "are increasingly sold illegally, which is then also associated with the higher risk that they may\n",
      "be adulterated with banned substances, thus making them even more dangerous and potentially\n",
      "life-threatening. Supplements are necessary in cases of nutrient deﬁciency; however, even though\n",
      "prescription is not required, their use should be recommended and monitored by a physician.\n",
      "Keywords: dietary supplements; legal regulations; health; safety\n",
      "1. Introduction\n",
      "In accordance with the European Union law, as well as the United States law, dietary\n",
      "supplements mean products that are concentrated sources of vitamins, minerals, or other\n",
      "\n",
      "\n",
      "\n",
      "developing modern diseases. The aim of this scoping review is to present the state of\n",
      "knowledge about the effects of using selected dietary supplements in the context of the risk\n",
      "of developing non-communicable diseases typical of industrial societies, i.e., cardiovascular\n",
      "diseases, malignancies, and obesity, as well as supplements’ possible treatment-supporting\n",
      "effects. Additionally, supplement safety, including their contamination with banned sub-\n",
      "stances, is discussed.\n",
      "2. Materials and Methods\n",
      "In view of the vast quantities of supplements of different compositions and purposes,\n",
      "the author chose to review published scientiﬁc research on the most frequently taken\n",
      "dietary supplements, both in Poland and worldwide, which are primarily vitamins and\n",
      "minerals, followed by omega-3 fatty acids [5,7,13,14]. In the case of dietary supplements\n",
      "for weight loss, the most used ingredients were considered, i.e., chromium, chitosan, green\n",
      "tea extract, bitter orange, and Garcinia cambogia [15,16].\n",
      "\n",
      "\n",
      "\n"
     ]
    }
   ],
   "source": [
    "question = \"what are the dietary supplements?\"\n",
    "docs = vector_store.search(query=question, search_type = 'similarity')\n",
    "\n",
    "for doc in docs:\n",
    "    print(doc.page_content)\n",
    "    print(\"\\n\\n\")"
   ]
  },
  {
   "cell_type": "code",
   "execution_count": 28,
   "metadata": {},
   "outputs": [],
   "source": [
    "retriver = vector_store.as_retriever(search_type=\"mmr\",search_kwargs = {'k':3,'fetch_k':100,'lambda_mult':1})"
   ]
  },
  {
   "cell_type": "code",
   "execution_count": 30,
   "metadata": {},
   "outputs": [
    {
     "name": "stdout",
     "output_type": "stream",
     "text": [
      "supplements mean products that are concentrated sources of vitamins, minerals, or other\n",
      "substances with a nutritional or physiological effect (e.g., amino acids, essential fatty acids,\n",
      "probiotics, plants, and herbal extracts) intended to supplement the regular diet. Dietary\n",
      "supplements are produced in the form of capsules, tablets, pills, and other similar forms,\n",
      "designed to be taken in measured small unit quantities [1,2]. Dietary supplements, despite\n",
      "their route of administration and drug-like appearance, have been classiﬁed as foodstuffs\n",
      "and not medicines. Thus, in formal terms, supplement users are consumers rather than\n",
      "patients, but the question remains whether it is sick or healthy individuals who should\n",
      "be the primary users. The market for dietary supplements continues to expand at a rapid\n",
      "pace, and manufacturers develop products for health problems affecting almost all organs\n",
      "of the body, as well as for non-existing conditions, e.g., supplements for bladder elasticity.\n",
      "\n",
      "\n",
      "\n",
      "\n",
      "Attribution (CC BY) license (https://\n",
      "creativecommons.org/licenses/by/\n",
      "4.0/).\n",
      "Department of Nutrition and Nutritional Value of Food, National Institute of Public Health NIH—National\n",
      "Research Institute, Chocimska St. 24, 00-791 Warsaw, Poland; rwierzejska@pzh.gov.pl\n",
      "Abstract: Dietary supplements are products containing nutrients sold in various medicinal forms,\n",
      "and their widespread use may stem from the conviction that a preparation that looks like a drug\n",
      "must have therapeutic properties. The aim of this scoping review is to present what is known\n",
      "about the effects of using selected dietary supplements in the context of chronic diseases, as well\n",
      "as the risks associated with their use. The literature shows that the taking of vitamin and mineral\n",
      "supplements by healthy people neither lowers their risk of cardiovascular diseases nor prevents\n",
      "the development of malignancies. Many scientiﬁc societies recognize that omega-3 fatty acids\n",
      "\n",
      "\n",
      "\n",
      "\n",
      "the development of malignancies. Many scientiﬁc societies recognize that omega-3 fatty acids\n",
      "lower blood triglycerides, but whether taking them prevents heart disease is less clear-cut. Taking\n",
      "weight loss supplements is not an effective method of ﬁghting obesity. Often, some supplements\n",
      "are increasingly sold illegally, which is then also associated with the higher risk that they may\n",
      "be adulterated with banned substances, thus making them even more dangerous and potentially\n",
      "life-threatening. Supplements are necessary in cases of nutrient deﬁciency; however, even though\n",
      "prescription is not required, their use should be recommended and monitored by a physician.\n",
      "Keywords: dietary supplements; legal regulations; health; safety\n",
      "1. Introduction\n",
      "In accordance with the European Union law, as well as the United States law, dietary\n",
      "supplements mean products that are concentrated sources of vitamins, minerals, or other\n",
      "\n",
      "\n",
      "\n",
      "\n"
     ]
    }
   ],
   "source": [
    "docs = retriver.invoke(question)\n",
    "\n",
    "for doc in docs:\n",
    "    print(doc.page_content)\n",
    "    print(\"\\n\\n\\n\")"
   ]
  },
  {
   "cell_type": "markdown",
   "metadata": {},
   "source": [
    "### RAG with llama3.2 on Ollama"
   ]
  },
  {
   "cell_type": "code",
   "execution_count": 33,
   "metadata": {},
   "outputs": [],
   "source": [
    "from langchain import hub   # to import rag related prompt\n",
    "from langchain_core.output_parsers import StrOutputParser # to get final output as string data\n",
    "from langchain_core.runnables import RunnablePassthrough # to directly pass question to llm\n",
    "from langchain_core.prompts import ChatPromptTemplate  # for prompt data\n",
    "\n",
    "from langchain_ollama import ChatOllama # make connection b/w langchain and llama3.2"
   ]
  },
  {
   "cell_type": "code",
   "execution_count": 35,
   "metadata": {},
   "outputs": [
    {
     "data": {
      "text/plain": [
       "AIMessage(content='Hello. How can I assist you today?', additional_kwargs={}, response_metadata={'model': 'llama3.2:1b', 'created_at': '2025-01-07T06:44:48.5027817Z', 'done': True, 'done_reason': 'stop', 'total_duration': 4930345000, 'load_duration': 3706270200, 'prompt_eval_count': 27, 'prompt_eval_duration': 485000000, 'eval_count': 10, 'eval_duration': 722000000, 'message': Message(role='assistant', content='', images=None, tool_calls=None)}, id='run-092b103c-6beb-46f0-afc3-3bf39fa5a484-0', usage_metadata={'input_tokens': 27, 'output_tokens': 10, 'total_tokens': 37})"
      ]
     },
     "execution_count": 35,
     "metadata": {},
     "output_type": "execute_result"
    }
   ],
   "source": [
    "model = ChatOllama(model=\"llama3.2:1b\", base_url=\"http://localhost:11434\")\n",
    "\n",
    "model.invoke(\"hii\")"
   ]
  },
  {
   "cell_type": "code",
   "execution_count": 36,
   "metadata": {},
   "outputs": [],
   "source": [
    "# create prompt for the llm\n",
    "\n",
    "prompt = '''\n",
    "    You are an AI assistant specifically designed to answer questions only related to the context provided to you. \n",
    "    Respond in a maximum of 3 lines, keeping the answers concise. \n",
    "    Use bullet points if possible, and ensure your answers are relevant to the question and \n",
    "    derived solely from the context. \n",
    "    Question: {question}\n",
    "    Context: {context}\n",
    "    Answer:\n",
    "'''\n"
   ]
  },
  {
   "cell_type": "code",
   "execution_count": 37,
   "metadata": {},
   "outputs": [],
   "source": [
    "prompt = ChatPromptTemplate.from_template(prompt)"
   ]
  },
  {
   "cell_type": "code",
   "execution_count": 38,
   "metadata": {},
   "outputs": [],
   "source": [
    "def format_docs(docs):  # context for the question\n",
    "    return \"\\n\\n\".join([doc.page_content for doc in docs])"
   ]
  },
  {
   "cell_type": "code",
   "execution_count": 40,
   "metadata": {},
   "outputs": [],
   "source": [
    "# print(format_docs(docs))"
   ]
  },
  {
   "cell_type": "code",
   "execution_count": 43,
   "metadata": {},
   "outputs": [],
   "source": [
    "rag_chain = (\n",
    "    {\"context\" : retriver|format_docs, \"question\":RunnablePassthrough()}\n",
    "    |prompt\n",
    "    |model\n",
    "    |StrOutputParser()\n",
    ")"
   ]
  },
  {
   "cell_type": "code",
   "execution_count": 44,
   "metadata": {},
   "outputs": [],
   "source": [
    "question = \"what is used to reduce the weight\"\n",
    "# question = \"what are the benefits of the supplements\"\n",
    "\n",
    "output = rag_chain.invoke(question)"
   ]
  },
  {
   "cell_type": "code",
   "execution_count": 45,
   "metadata": {},
   "outputs": [
    {
     "name": "stdout",
     "output_type": "stream",
     "text": [
      "<class 'str'>\n"
     ]
    }
   ],
   "source": [
    "print(type(output))"
   ]
  },
  {
   "cell_type": "code",
   "execution_count": 46,
   "metadata": {},
   "outputs": [
    {
     "name": "stdout",
     "output_type": "stream",
     "text": [
      "• The majority of weight loss supplements used by young women, regardless of their weight [15], contain over 4000 individual substances, making it challenging to determine the effects on the body. \n",
      "• Some popular ingredients include chromium and chitosan, green tea, Garcinia cambogia, and bitter orange extracts.\n"
     ]
    }
   ],
   "source": [
    "print(output)"
   ]
  }
 ],
 "metadata": {
  "kernelspec": {
   "display_name": ".venv",
   "language": "python",
   "name": "python3"
  },
  "language_info": {
   "codemirror_mode": {
    "name": "ipython",
    "version": 3
   },
   "file_extension": ".py",
   "mimetype": "text/x-python",
   "name": "python",
   "nbconvert_exporter": "python",
   "pygments_lexer": "ipython3",
   "version": "3.11.4"
  }
 },
 "nbformat": 4,
 "nbformat_minor": 2
}
